{
 "cells": [
  {
   "cell_type": "markdown",
   "metadata": {},
   "source": [
    "# Figures"
   ]
  },
  {
   "cell_type": "markdown",
   "metadata": {},
   "source": [
    "---"
   ]
  },
  {
   "cell_type": "markdown",
   "metadata": {},
   "source": [
    "## Table of Contents "
   ]
  },
  {
   "cell_type": "markdown",
   "metadata": {},
   "source": [
    "* [1. Introduction](#introduction)\n",
    "    * [1.1. Project Description](#project-description)\n",
    "    * [1.2. Packages](#packges)\n",
    "\n",
    "\n",
    "* [2. Data Loading](#data-loading)\n",
    "\n",
    "    \n",
    "* [3. Main Figures](#main)\n",
    "    * [3.1 - Figure 1. Schema and model selection, training and feature importance in the final RF model](#figure1)\n",
    "    * [3.2 - Figure 2. TRIFID learning curve and feature importance](#figure2)\n",
    "    * [3.3 - Figure 3. Length and conservation scores versus TRIFID scores](#figure3)\n",
    "    * [3.4 - Figure 4. Normalized TRIFID scores and for alternative and principal isoforms](#figure4)\n",
    "    * [3.5 - Figure 5. A schematic illustration of the two functionally important ERCC6 isoforms](#figure5)\n",
    "    * [3.6 - Figure 6. Model predictions for four fibroblast growth factor receptor 1 (FGFR1) isoforms ](#figure6)\n",
    "    * [3.7 - Figure 7. A comparison between TRIFID and PULSE and exporting TRIFID to other species](#figure7)\n",
    "    * [3.8 - Figure 8.TRIFID scores and genomic variation for principal and alternative exons](#figure8)\n",
    "\n",
    "    \n",
    "* [4. Supplementary figures](#supplementary)\n",
    "    * [4.1 - Figure S1. The relationship between the 45 predictive features in TRIFID](#figures1)\n",
    "    * [4.2 - Figure S2: Length and conservation scores versus TRIFID scores](#figures2)\n",
    "    * [4.3 - Figure S3: Distribution of TRIFID scores for GENCODE v27 isoforms](#figures3)\n",
    "    * [4.4 - Figure S4: Distribution of TRIFID scores for principal and alternative isoforms](#figures4)\n",
    "    * [4.5 - Figure S5: Distribution of TRIFID scores for GENCODE v27 transcript types](#figures5)\n",
    "    * [4.6 - Figure S6: A scatter plot of Raw TRIFID score against Normalised TRIFID score](#figures6)\n",
    "    * [4.7 - Figure S7: SHAP local predictions for ERCC6 isoforms](#figures7)\n",
    "    * [4.8 - Figure S8: SHAP local predictions for FGFR1 isoforms](#figures8)\n",
    "    * [4.9 - Figure S9: Further examples of discrepancies between TRIFID and PULSE scores](#figures9)\n",
    "    * [4.10 - Figure S10: Human - generic comparison](#figures10)\n",
    "    * [4.11 - Extra figures](#figures10)\n",
    "    \n",
    "\n",
    "* [5. References](#references)\n",
    "\n",
    "* [6. Project contribution](#project-contribution)"
   ]
  },
  {
   "cell_type": "markdown",
   "metadata": {},
   "source": [
    "---"
   ]
  },
  {
   "cell_type": "markdown",
   "metadata": {},
   "source": [
    "# 1. Introduction <a class=\"anchor\" id=\"introduction\"></a>"
   ]
  },
  {
   "cell_type": "markdown",
   "metadata": {},
   "source": [
    "## 1.1. Project Description <a class=\"anchor\" id=\"project-description\"></a>"
   ]
  },
  {
   "cell_type": "markdown",
   "metadata": {},
   "source": [
    "Alternative Splicing (AS) of messenger RNA can generate a wide variety of mature RNA transcripts and this expression is confirmed by experimental transcript evidence. In theory these transcripts could generate protein isoforms with diverse cellular functions. However, while peptide evidence strongly supports a main protein isoform for the vast majority of coding genes [(1)](https://pubs.acs.org/doi/full/10.1021/pr501286b), it is not clear what proportion of these AS isoforms form stable functional proteins. In fact reliable proteomics experiments have found little evidence of alternative spliced proteins [(2)](https://www.sciencedirect.com/science/article/pii/S0968000416301189), so the number of stably folded/functional proteins produced by AS remains a mystery.\n",
    "\n",
    "We have developed a computational method (`TRIFID`) for the classification of splice isoform functional importance. This algorithm was trained on reliable peptide evidence from proteomics analyses and classifies biologically important splice isoforms with high confidence. The algorithm ranks the most significant biological splice isoforms and we show that the highest scoring alternative exons are actually under selection pressure, unlike the vast majority of alternative exons. TRIFID can predict functional isoforms for any well-annotated eukaryotic species. The method will generate valuable insights into the cellular importance of alternative splicing."
   ]
  },
  {
   "cell_type": "markdown",
   "metadata": {},
   "source": [
    "## 1.2. Packages <a class=\"anchor\" id=\"packages\"></a>"
   ]
  },
  {
   "cell_type": "code",
   "execution_count": null,
   "metadata": {},
   "outputs": [],
   "source": [
    "import os, sys, pickle, warnings\n",
    "\n",
    "import pandas as pd\n",
    "import numpy as np\n",
    "import altair as alt \n",
    "import matplotlib.pyplot as plt\n",
    "from matplotlib.ticker import StrMethodFormatter\n",
    "from sklearn.model_selection import StratifiedKFold\n",
    "from sklearn.metrics import precision_recall_curve, auc\n",
    "from sklearn.metrics import matthews_corrcoef, make_scorer\n",
    "import scipy.stats as stats\n",
    "\n",
    "sys.path.append('../')\n",
    "from trifid.data.loaders import Fasta\n",
    "from trifid.models.select import Classifier\n",
    "from trifid.models.interpret import TreeInterpretation\n",
    "from trifid.utils.utils import *\n",
    "from trifid.visualization.figures import * \n",
    "\n",
    "pd.set_option(\"display.max_rows\", 100)\n",
    "pd.set_option(\"display.max_columns\", 100)\n",
    "warnings.filterwarnings(\"ignore\")\n",
    "alt.data_transformers.disable_max_rows()\n",
    "sns.set_style(\"whitegrid\")\n",
    "\n",
    "%matplotlib inline\n",
    "%load_ext watermark\n",
    "%watermark -a 'Fernando Pozo' -u -n -t -z -g -p pandas,numpy,altair,matplotlib,sklearn,yellowbrick\n",
    "\n",
    "%load_ext autoreload\n",
    "%autoreload 2\n",
    "\n",
    "!pwd"
   ]
  },
  {
   "cell_type": "markdown",
   "metadata": {},
   "source": [
    "---"
   ]
  },
  {
   "cell_type": "markdown",
   "metadata": {},
   "source": [
    "# 2. Data Loading <a class=\"anchor\" id=\"data-loading\"></a>"
   ]
  },
  {
   "cell_type": "code",
   "execution_count": null,
   "metadata": {},
   "outputs": [],
   "source": [
    "# initial parameters\n",
    "TRIFID_DIR = '/local/fpozoc/Projects/trifid'\n",
    "CONFIG_PATH = os.path.join(TRIFID_DIR, 'config/config.yaml')\n",
    "FEATURES_PATH = os.path.join(TRIFID_DIR, 'config/features.yaml')\n",
    "SEED = 123\n",
    "\n",
    "# features\n",
    "config = parse_yaml(CONFIG_PATH)\n",
    "df_features = pd.DataFrame(parse_yaml(FEATURES_PATH))\n",
    "features = df_features[~df_features['category'].str.contains('Identifier')]['feature'].values\n",
    "\n",
    "# feature dataset\n",
    "df_g27 = pd.read_csv(os.path.join(TRIFID_DIR, 'data', 'genomes', 'GRCh38', 'g27', 'trifid_db.tsv.gz'), sep='\\t', compression='gzip')\n",
    "df_g27_features = df_g27[features]\n",
    "df_g35 = pd.read_csv(os.path.join(TRIFID_DIR, 'data', 'genomes', 'GRCh38', 'g35', 'trifid_db.tsv.gz'), sep='\\t', compression='gzip')\n",
    "df_rs109 = pd.read_csv(os.path.join(TRIFID_DIR, 'data', 'genomes', 'GRCh38', 'rs109', 'trifid_db.tsv.gz'), sep='\\t', compression='gzip')\n",
    "\n",
    "# training set and predictions\n",
    "df_training_set = pd.read_csv(os.path.join(TRIFID_DIR, 'data', 'model', 'training_set_initial.g27.tsv.gz'), sep='\\t')\n",
    "df_training_set.loc[df_training_set['state'].str.contains('F'), 'label'] = 1\n",
    "df_training_set.loc[df_training_set['state'].str.contains('U'), 'label'] = 0\n",
    "df_training_set = df_training_set.loc[~df_training_set['label'].isnull()]\n",
    "df_training_set = df_training_set.loc[df_training_set['added'].str.contains('v1|r|v3')].drop(['added', 'state', 'comment'], axis=1).reset_index(drop=True)\n",
    "\n",
    "df_g27_sequences = Fasta(os.path.join(TRIFID_DIR, 'data', 'source', 'GRCh38', 'g27', 'appris_data.transl.fa.gz'), db='g').load\n",
    "df_g27_sequences['transcript_id'] = df_g27_sequences['id'].str.split('|').str[1]\n",
    "df_g27_sequences = df_g27_sequences[['transcript_id', 'sequence']]\n",
    "\n",
    "df_g27_predictions = pd.read_csv(os.path.join(TRIFID_DIR, 'data', 'genomes', 'GRCh38', 'g27', 'trifid_predictions.tsv.gz'), sep='\\t', compression='gzip')\n",
    "df_g35_predictions = pd.read_csv(os.path.join(TRIFID_DIR, 'data', 'genomes', 'GRCh38', 'g35', 'trifid_predictions.tsv.gz'), sep='\\t', compression='gzip')\n",
    "df_rs109_predictions = pd.read_csv(os.path.join(TRIFID_DIR, 'data', 'genomes', 'GRCh38', 'rs109', 'trifid_predictions.tsv.gz'), sep='\\t', compression='gzip')\n",
    "df_gm25_predictions = pd.read_csv(os.path.join(TRIFID_DIR, 'data', 'genomes', 'GRCm38', 'g25', 'trifid_predictions.tsv.gz'), sep='\\t', compression='gzip')\n",
    "\n",
    "# model\n",
    "my_model = pickle.load(open(os.path.join(TRIFID_DIR, 'models', 'selected_model.pkl'), 'rb'))\n",
    "model = Classifier(\n",
    "    model = my_model,\n",
    "    df = df_training_set, \n",
    "    features_col=df_training_set[features].columns,\n",
    "    target_col='label',\n",
    "    random_state=SEED)\n",
    "\n",
    "# interpretation\n",
    "interpretation = TreeInterpretation(\n",
    "    model = my_model,\n",
    "    df = df_training_set, \n",
    "    features_col=df_training_set[features].columns,\n",
    "    target_col='label',\n",
    "    random_state=SEED,\n",
    "    test_size=0.25)"
   ]
  },
  {
   "cell_type": "markdown",
   "metadata": {},
   "source": [
    "---"
   ]
  },
  {
   "cell_type": "code",
   "execution_count": 1,
   "metadata": {},
   "outputs": [],
   "source": [
    "class PDF(object):\n",
    "    def __init__(self, pdf, size=(200,200)):\n",
    "        self.pdf = pdf\n",
    "        self.size = size\n",
    "    def _repr_html_(self):\n",
    "        return '<iframe src={0} width={1[0]} height={1[1]}></iframe>'.format(self.pdf, self.size)\n",
    "    def _repr_latex_(self):\n",
    "        return r'\\includegraphics[width=1.0\\textwidth]{{{0}}}'.format(self.pdf)"
   ]
  },
  {
   "cell_type": "markdown",
   "metadata": {},
   "source": [
    "# 3. Main figures <a class=\"anchor\" id=\"main\"></a>"
   ]
  },
  {
   "cell_type": "markdown",
   "metadata": {},
   "source": [
    "## 3.1 - Figure 1. Schema and model selection, training and feature importance in the final RF model <a class=\"anchor\" id=\"figure1\"></a>"
   ]
  },
  {
   "cell_type": "code",
   "execution_count": 2,
   "metadata": {},
   "outputs": [
    {
     "data": {
      "text/html": [
       "<iframe src=../reports/figures/fig1.pdf width=600 height=600></iframe>"
      ],
      "text/latex": [
       "\\includegraphics[width=1.0\\textwidth]{../reports/figures/fig1.pdf}"
      ],
      "text/plain": [
       "<__main__.PDF at 0x7f4de279ff10>"
      ]
     },
     "execution_count": 2,
     "metadata": {},
     "output_type": "execute_result"
    }
   ],
   "source": [
    "PDF('../reports/figures/fig1.pdf',size=(600,600))"
   ]
  },
  {
   "cell_type": "code",
   "execution_count": null,
   "metadata": {},
   "outputs": [],
   "source": [
    "fig, ax1 = plt.subplots(1, 1, figsize=(4, 4))\n",
    "plot_prcurve(\n",
    "    model=model.model,\n",
    "    X=model.train_features.values, \n",
    "    y=model.train_target.values, \n",
    "    n_splits=10,\n",
    "    seed=123,\n",
    "    ax=ax1)\n",
    "fig.show()\n",
    "# fig.savefig('../reports/figures/fig1C.png', bbox_inches='tight' ,dpi=1200)"
   ]
  },
  {
   "cell_type": "markdown",
   "metadata": {},
   "source": [
    "## 3.2 - Figure 2. TRIFID learning curve and feature importance <a class=\"anchor\" id=\"figure2\"></a>"
   ]
  },
  {
   "cell_type": "code",
   "execution_count": 3,
   "metadata": {},
   "outputs": [
    {
     "data": {
      "text/html": [
       "<iframe src=../reports/figures/fig2.pdf width=800 height=600></iframe>"
      ],
      "text/latex": [
       "\\includegraphics[width=1.0\\textwidth]{../reports/figures/fig2.pdf}"
      ],
      "text/plain": [
       "<__main__.PDF at 0x7f4de1f3ec10>"
      ]
     },
     "execution_count": 3,
     "metadata": {},
     "output_type": "execute_result"
    }
   ],
   "source": [
    "PDF('../reports/figures/fig2.pdf',size=(800,600))"
   ]
  },
  {
   "cell_type": "code",
   "execution_count": null,
   "metadata": {},
   "outputs": [],
   "source": [
    "# shap dataframe processing\n",
    "df_shap = interpretation.shap\n",
    "df_shap['shap_percentage'] = (df_shap['shap']/df_shap['shap'].sum())*100\n",
    "df_shap = pd.merge(df_features[df_features['category'] != 'Identifier'], df_shap, on='feature', how='left')\n",
    "df_shap['group_percentage'] = df_shap.groupby('category')['shap_percentage'].transform(lambda x: x.sum()).round(2)\n",
    "df_shap['category'] = df_shap.apply(lambda row: str(row['category']) + ' (' + str(row['group_percentage']) + ' %)', axis=1)"
   ]
  },
  {
   "cell_type": "code",
   "execution_count": null,
   "metadata": {},
   "outputs": [],
   "source": [
    "df_shap.drop('group_percentage', axis=1).to_csv(os.path.join(TRIFID_DIR, 'reports', 'tables', 'trifid_features.g27.tsv.gz'), index=None, sep='\\t', compression='gzip')"
   ]
  },
  {
   "cell_type": "code",
   "execution_count": null,
   "metadata": {},
   "outputs": [],
   "source": [
    "plot_feature_importances(df_shap, xcol='shap_percentage', ycol='name', facetcol='category', method='SHAP', ntop=18)"
   ]
  },
  {
   "cell_type": "code",
   "execution_count": null,
   "metadata": {},
   "outputs": [],
   "source": [
    "plt_vc_mcc = plot_learning_curve(model = my_model, seed = SEED, train_size = np.linspace(0.1, 1, 10),\n",
    "                    scoring_function = make_scorer(matthews_corrcoef),\n",
    "                    features = pd.concat([model.train_features, model.test_features]).reset_index(drop=True),\n",
    "                    target = pd.concat([model.train_target, model.test_target]).reset_index(drop=True),\n",
    "                    ylabel = 'Matthews correlation coefficient', \n",
    "                    ylim = [0.825, 0.96]\n",
    "                   )\n",
    "# plt_vc_ap.savefig('../reports/figures/fig2A.png', bbox_inches='tight' ,dpi=480)"
   ]
  },
  {
   "cell_type": "code",
   "execution_count": null,
   "metadata": {},
   "outputs": [],
   "source": [
    "plt_vc_ap = plot_learning_curve(model = my_model, seed = SEED, train_size = np.linspace(0.1, 1, 10),\n",
    "                    scoring_function = 'average_precision',\n",
    "                    features = pd.concat([model.train_features, model.test_features]).reset_index(drop=True),\n",
    "                    target = pd.concat([model.train_target, model.test_target]).reset_index(drop=True),\n",
    "                    ylabel = 'Average precision',\n",
    "                    ylim = [0.95, 1]\n",
    "                   )\n",
    "# plt_vc_ap.savefig('../reports/figures/fig2B.png', bbox_inches='tight' ,dpi=480)"
   ]
  },
  {
   "cell_type": "markdown",
   "metadata": {},
   "source": [
    "## 3.3 - Figure 3. Length and conservation scores versus TRIFID scores <a class=\"anchor\" id=\"figure3\"></a>"
   ]
  },
  {
   "cell_type": "code",
   "execution_count": 4,
   "metadata": {},
   "outputs": [
    {
     "data": {
      "text/html": [
       "<iframe src=../reports/figures/fig3.pdf width=700 height=400></iframe>"
      ],
      "text/latex": [
       "\\includegraphics[width=1.0\\textwidth]{../reports/figures/fig3.pdf}"
      ],
      "text/plain": [
       "<__main__.PDF at 0x7f4de278df10>"
      ]
     },
     "execution_count": 4,
     "metadata": {},
     "output_type": "execute_result"
    }
   ],
   "source": [
    "PDF('../reports/figures/fig3.pdf',size=(700,400))"
   ]
  },
  {
   "cell_type": "code",
   "execution_count": null,
   "metadata": {},
   "outputs": [],
   "source": [
    "df_bilateria = pd.read_excel('../reports/data/F-M_F-M.xlsx')\n",
    "df_bilateria = df_bilateria.rename(columns={'HGNC (G24)': 'gene_name', 'Ensembl': 'gene_id'})\n",
    "df_bilateria = df_bilateria.drop('gene_name', axis=1)\n",
    "\n",
    "df_g27_bilateria = pd.merge(df_bilateria, df_g27, how='left', on='gene_id')\n",
    "\n",
    "data1_bil = create_categories(df_g27_bilateria, df_g27_predictions, feature='length', cats=[1000, 2000, 2500])\n",
    "data1_bil['Gene set'] = f'Bilateria ({data1_bil.index.nunique()} genes)'\n",
    "data2_bil = create_categories(df_g27_bilateria, df_g27_predictions, feature='corsair', cats=[1.5, 4, 10])\n",
    "data2_bil['Gene set'] = f'Bilateria ({data2_bil.index.nunique()} genes)'\n",
    "data3_bil = create_categories(df_g27_bilateria, df_g27_predictions, feature='corsair_alt', cats=[0.25, 0.5, 0.75, 1])\n",
    "data3_bil['Gene set'] = f'Bilateria ({data3_bil.index.nunique()} genes)'\n",
    "\n",
    "plt.rc('axes', titlesize=16, labelsize=18)   \n",
    "plt.rc('ytick', labelsize=18)    # fontsize of the tick labels\n",
    "\n",
    "fig, axes = plt.subplots(3, 1, sharex=True, sharey=False, figsize=(14, 8))\n",
    "sns.despine(trim=False, left=False)\n",
    "\n",
    "palette = sns.color_palette(\"coolwarm\", 2)\n",
    "axes[0] = sns.boxplot(x=\"trifid_score\", y=\"Length\", data=data1_bil, orient='w', width=.7, fliersize=1, color=\"#d9d9d9\", ax=axes[0])\n",
    "axes[1] = sns.boxplot(x=\"trifid_score\", y=\"Corsair\", data=data2_bil, orient='w', width=.7, fliersize=1, color=\"#a4c2f4\", ax=axes[1])\n",
    "axes[2] = sns.boxplot(x=\"trifid_score\", y=\"Corsair_alt\", data=data3_bil, orient='w', width=.7, fliersize=1, color=\"#4a86e8\", ax=axes[2])\n",
    "\n",
    "for ax in axes:\n",
    "    ax.set_xlabel(\"\")\n",
    "    ax.xaxis.grid(False)\n",
    "    ax.yaxis.grid(False)\n",
    "    \n",
    "axes[0].set_ylabel('Length', labelpad=26, fontsize=20)\n",
    "axes[0].margins(0)\n",
    "axes[1].set_ylabel('CORSAIR', labelpad=40, fontsize=20)\n",
    "axes[2].set_ylabel('Alt-CORSAIR', labelpad=30, fontsize=20)\n",
    "axes[2].set_xlabel(\"TRIFID score\", fontsize=20)\n",
    "plt.tick_params(labelsize=18)\n",
    "plt.xlim([0,1])\n",
    "plt.tight_layout()\n",
    "# plt.savefig('../reports/figures/fig3.png', bbox_inches='tight', dpi=350)\n",
    "# plt.savefig('../reports/figures/fig3.pdf', bbox_inches='tight', dpi=350)"
   ]
  },
  {
   "cell_type": "markdown",
   "metadata": {},
   "source": [
    "## 3.4 - Figure 4. Normalized TRIFID scores and for alternative and principal isoforms <a class=\"anchor\" id=\"figure4\"></a>"
   ]
  },
  {
   "cell_type": "code",
   "execution_count": 6,
   "metadata": {},
   "outputs": [
    {
     "data": {
      "text/html": [
       "<iframe src=../reports/figures/fig4.pdf width=700 height=400></iframe>"
      ],
      "text/latex": [
       "\\includegraphics[width=1.0\\textwidth]{../reports/figures/fig4.pdf}"
      ],
      "text/plain": [
       "<__main__.PDF at 0x7f4de1f3ef90>"
      ]
     },
     "execution_count": 6,
     "metadata": {},
     "output_type": "execute_result"
    }
   ],
   "source": [
    "PDF('../reports/figures/fig4.pdf',size=(700,400))"
   ]
  },
  {
   "cell_type": "markdown",
   "metadata": {},
   "source": [
    "## 3.5 - Figure 5. A schematic illustration of the two functionally important ERCC6 isoforms <a class=\"anchor\" id=\"figure5\"></a>"
   ]
  },
  {
   "cell_type": "code",
   "execution_count": 7,
   "metadata": {},
   "outputs": [
    {
     "data": {
      "text/html": [
       "<iframe src=../reports/figures/fig5.pdf width=1000 height=600></iframe>"
      ],
      "text/latex": [
       "\\includegraphics[width=1.0\\textwidth]{../reports/figures/fig5.pdf}"
      ],
      "text/plain": [
       "<__main__.PDF at 0x7f4de1f55490>"
      ]
     },
     "execution_count": 7,
     "metadata": {},
     "output_type": "execute_result"
    }
   ],
   "source": [
    "PDF('../reports/figures/fig5.pdf',size=(1000,600))"
   ]
  },
  {
   "cell_type": "markdown",
   "metadata": {},
   "source": [
    "## 3.6 - Figure 6. Model predictions for four fibroblast growth factor receptor 1 (FGFR1) isoforms <a class=\"anchor\" id=\"figure6\"></a>"
   ]
  },
  {
   "cell_type": "code",
   "execution_count": 8,
   "metadata": {},
   "outputs": [
    {
     "data": {
      "text/html": [
       "<iframe src=../reports/figures/fig6.pdf width=1000 height=600></iframe>"
      ],
      "text/latex": [
       "\\includegraphics[width=1.0\\textwidth]{../reports/figures/fig6.pdf}"
      ],
      "text/plain": [
       "<__main__.PDF at 0x7f4de1f558d0>"
      ]
     },
     "execution_count": 8,
     "metadata": {},
     "output_type": "execute_result"
    }
   ],
   "source": [
    "PDF('../reports/figures/fig6.pdf',size=(1000,600))"
   ]
  },
  {
   "cell_type": "markdown",
   "metadata": {},
   "source": [
    "## 3.7 - Figure 7. A comparison between TRIFID and PULSE and exporting TRIFID to other species <a class=\"anchor\" id=\"figure7\"></a>"
   ]
  },
  {
   "cell_type": "code",
   "execution_count": 9,
   "metadata": {},
   "outputs": [
    {
     "data": {
      "text/html": [
       "<iframe src=../reports/figures/fig7.pdf width=1000 height=600></iframe>"
      ],
      "text/latex": [
       "\\includegraphics[width=1.0\\textwidth]{../reports/figures/fig7.pdf}"
      ],
      "text/plain": [
       "<__main__.PDF at 0x7f4de1f55dd0>"
      ]
     },
     "execution_count": 9,
     "metadata": {},
     "output_type": "execute_result"
    }
   ],
   "source": [
    "PDF('../reports/figures/fig7.pdf',size=(1000,600))"
   ]
  },
  {
   "cell_type": "code",
   "execution_count": null,
   "metadata": {},
   "outputs": [],
   "source": [
    "df_g27_predictions = pd.merge(df_g27_predictions, df_g27_sequences, how='left', on='transcript_id')"
   ]
  },
  {
   "cell_type": "code",
   "execution_count": null,
   "metadata": {},
   "outputs": [],
   "source": [
    "# pulse dataframe processing\n",
    "df_pulse = pd.read_excel('../references/pulse/predictions/1-s2.0-S2211124715006439-mmc3.xlsx', skiprows=18)\n",
    "df_pulse = df_pulse.rename(columns={'Sequence': 'sequence', 'Score': 'PULSE'})\n",
    "df_g27_pulse = pd.merge(df_pulse[['sequence', 'PULSE', 'ID', 'CanonicalAnchor', 'AlternativeIsoformIDS', 'CanonicalSequence']], \n",
    "                        df_g27_predictions[['gene_id','gene_name', 'transcript_id', 'appris', 'flags', 'sequence', 'trifid_score', 'norm_trifid_score']], \n",
    "                        how='left', on='sequence')\n",
    "\n",
    "# shap top 20 features\n",
    "features_top_20 = list(df_shap.sort_values(by='shap', ascending=False).head(20)['feature'].values)\n",
    "\n",
    "df_g27_pulse = pd.merge(df_g27_pulse, \n",
    "                        df_g27[['transcript_id'] + features_top_20],\n",
    "                        on='transcript_id', how='left'\n",
    "                       )\n",
    "df_g27_pulse = df_g27_pulse.loc[~df_g27_pulse['transcript_id'].isnull()].reset_index(drop=True)\n",
    "df_g27_pulse = df_g27_pulse.loc[~df_g27_pulse['appris'].str.contains('PRINCIPAL')]\n",
    "df_g27_pulse = df_g27_pulse.loc[~df_g27_pulse['flags'].str.contains('nonsense_mediated_decay')]\n",
    "df_g27_pulse = df_g27_pulse.drop_duplicates('sequence').reset_index(drop=True)"
   ]
  },
  {
   "cell_type": "code",
   "execution_count": null,
   "metadata": {},
   "outputs": [],
   "source": [
    "r_pearson, p_pearson = stats.pearsonr(df_g27_pulse['norm_trifid_score'], df_g27_pulse['PULSE'])\n",
    "r_spearman, p_spearman = stats.spearmanr(df_g27_pulse['norm_trifid_score'], df_g27_pulse['PULSE'])\n",
    "legend_label = f'Pearson $\\\\rho$ = {r_pearson.round(3)}; Spearman $\\\\rho$ = {r_spearman.round(3)}'\n",
    "print(legend_label)\n",
    "\n",
    "scp = sns.jointplot(data=df_g27_pulse, \n",
    "              x=\"norm_trifid_score\", y=\"PULSE\", \n",
    "              kind=\"reg\", color='#3CAEA3', \n",
    "              xlim=(0,1), ylim=(0,1), \n",
    "              height=8, ratio=6,\n",
    "              space=0.3,\n",
    "              marginal_kws=dict(bins=20, rug=True),\n",
    "              joint_kws = {'scatter_kws':dict(alpha=0.7, s=20)}\n",
    "                   )\n",
    "# scp.ax_joint.annotate(legend_label, xy=(0.3, 0.05), xycoords='axes fraction', fontsize=16)\n",
    "\n",
    "plt.xlabel('Normalized TRIFID score', fontsize=34)\n",
    "plt.xticks(fontsize=28)\n",
    "\n",
    "plt.ylabel('PULSE predicted score', fontsize=34)\n",
    "plt.yticks(fontsize=28)\n",
    "plt.tight_layout()\n",
    "# plt.savefig('../reports/figures/fig7A.1.pdf', bbox_inches='tight', dpi=350)\n",
    "# plt.savefig('../reports/figures/fig7A.1.png', bbox_inches='tight', dpi=350)"
   ]
  },
  {
   "cell_type": "markdown",
   "metadata": {},
   "source": [
    "## 3.8 - Figure 8.TRIFID scores and genomic variation for principal and alternative exons <a class=\"anchor\" id=\"figure8\"></a>"
   ]
  },
  {
   "cell_type": "code",
   "execution_count": 10,
   "metadata": {},
   "outputs": [
    {
     "data": {
      "text/html": [
       "<iframe src=../reports/figures/fig8.pdf width=600 height=500></iframe>"
      ],
      "text/latex": [
       "\\includegraphics[width=1.0\\textwidth]{../reports/figures/fig8.pdf}"
      ],
      "text/plain": [
       "<__main__.PDF at 0x7f4de1f5a290>"
      ]
     },
     "execution_count": 10,
     "metadata": {},
     "output_type": "execute_result"
    }
   ],
   "source": [
    "PDF('../reports/figures/fig8.pdf',size=(600,500))"
   ]
  },
  {
   "cell_type": "markdown",
   "metadata": {},
   "source": [
    "# 3. Supplementary figures <a class=\"anchor\" id=\"supplementary\"></a>"
   ]
  },
  {
   "cell_type": "markdown",
   "metadata": {},
   "source": [
    "## 4.1 - Figure S1. The relationship between the 45 predictive features in TRIFID <a class=\"anchor\" id=\"figures1\"></a>"
   ]
  },
  {
   "cell_type": "code",
   "execution_count": 11,
   "metadata": {},
   "outputs": [
    {
     "data": {
      "text/html": [
       "<iframe src=../reports/figures/figS1.pdf width=1000 height=1000></iframe>"
      ],
      "text/latex": [
       "\\includegraphics[width=1.0\\textwidth]{../reports/figures/figS1.pdf}"
      ],
      "text/plain": [
       "<__main__.PDF at 0x7f4de1f5a850>"
      ]
     },
     "execution_count": 11,
     "metadata": {},
     "output_type": "execute_result"
    }
   ],
   "source": [
    "PDF('../reports/figures/figS1.pdf',size=(1000,1000))"
   ]
  },
  {
   "cell_type": "code",
   "execution_count": null,
   "metadata": {},
   "outputs": [],
   "source": [
    "df = df_g27[df_g27.columns[8:]]\n",
    "\n",
    "features_names = df_shap.set_index('feature')['name'].to_dict()\n",
    "if isinstance(df, (pd.DatetimeIndex, pd.MultiIndex)):\n",
    "    df = df.to_frame(index=False)\n",
    "\n",
    "# remove any pre-existing indices for ease of use in the D-Tale code, but this is not required\n",
    "df = df.reset_index().drop('index', axis=1, errors='ignore')\n",
    "df.columns = [str(c) for c in df.columns]  # update columns to strings in case they are numbers\n",
    "\n",
    "corr_cols = features\n",
    "corr_data = np.corrcoef(df[corr_cols].values, rowvar=False)\n",
    "corr_data = pd.DataFrame(corr_data, columns=[corr_cols], index=[corr_cols])\n",
    "corr_data = corr_data.rename(index=features_names, columns=features_names).round(2)\n",
    "corr_data.index.name = str('column')\n",
    "\n",
    "sns.set(font_scale=1.4)\n",
    "plt.figure(figsize=(30, 24))\n",
    "heatmap = sns.heatmap(corr_data, vmin=-1, vmax=1, annot=True,  cmap='RdBu', linewidths=1, fmt='.2g', linecolor='white',  annot_kws={\"size\":12})\n",
    "plt.xlabel('')\n",
    "plt.ylabel('')\n",
    "# plt.savefig('../reports/figures/figS1.png', bbox_inches='tight')\n",
    "# plt.savefig('../reports/figures/figS1.pdf', dpi=350, bbox_inches='tight')"
   ]
  },
  {
   "cell_type": "markdown",
   "metadata": {},
   "source": [
    "## 4.2 - Figure S2: Length and conservation scores versus TRIFID scores <a class=\"anchor\" id=\"figures2\"></a>"
   ]
  },
  {
   "cell_type": "code",
   "execution_count": 12,
   "metadata": {},
   "outputs": [
    {
     "data": {
      "text/html": [
       "<iframe src=../reports/figures/figS2.pdf width=700 height=400></iframe>"
      ],
      "text/latex": [
       "\\includegraphics[width=1.0\\textwidth]{../reports/figures/figS2.pdf}"
      ],
      "text/plain": [
       "<__main__.PDF at 0x7f4de1f5ad90>"
      ]
     },
     "execution_count": 12,
     "metadata": {},
     "output_type": "execute_result"
    }
   ],
   "source": [
    "PDF('../reports/figures/figS2.pdf',size=(700,400))"
   ]
  },
  {
   "cell_type": "code",
   "execution_count": null,
   "metadata": {},
   "outputs": [],
   "source": [
    "sns.set_style(\"whitegrid\")\n",
    "df_g27_nopnc = df_g27.loc[~df_g27['gene_id'].str.contains('$|^'.join(list(df_notcoding['gene_id'].values)))]\n",
    "df_notcoding = pd.read_csv('../reports/data/PNC_genes_G27.tsv', names=['gene_id'])\n",
    "df_g27_notcoding = pd.merge(df_notcoding, df_g27, how='left', on='gene_id')\n",
    "\n",
    "data1_g27 = create_categories(df_g27_nopnc, df_g27_predictions, feature='length', cats=[1000, 2000, 2500])\n",
    "data1_pnc = create_categories(df_g27_notcoding, df_g27_predictions, feature='length', cats=[1000, 2000, 2500])\n",
    "data1_g27['Gene set'] = f'Non PNC ({data1_g27.index.nunique()} genes)'\n",
    "data1_pnc['Gene set'] = f'PNC ({data1_pnc.index.nunique()} genes)'\n",
    "\n",
    "data2_g27 = create_categories(df_g27_nopnc, df_g27_predictions, feature='corsair', cats=[1.5, 4, 10])\n",
    "data2_pnc = create_categories(df_g27_notcoding, df_g27_predictions, feature='corsair', cats=[1.5, 4, 10])\n",
    "data2_g27['Gene set'] = f'Non PNC ({data2_g27.index.nunique()} genes)'\n",
    "data2_pnc['Gene set'] = f'PNC ({data2_pnc.index.nunique()} genes)'\n",
    "\n",
    "data3_g27 = create_categories(df_g27_nopnc, df_g27_predictions, feature='corsair_alt', cats=[0.25, 0.5, 0.75, 1])\n",
    "data3_pnc = create_categories(df_g27_notcoding, df_g27_predictions, feature='corsair_alt', cats=[0.25, 0.5, 0.75, 1])\n",
    "data3_g27['Gene set'] = f'Non PNC ({data3_g27.index.nunique()} genes)'\n",
    "data3_pnc['Gene set'] = f'PNC ({data3_pnc.index.nunique()} genes)'\n",
    "\n",
    "plt.rc('axes', titlesize=16, labelsize=18)   \n",
    "plt.rc('ytick', labelsize=18)    # fontsize of the tick labels\n",
    "\n",
    "fig, axes = plt.subplots(3, 1, sharex=True, sharey=False, figsize=(16, 10))\n",
    "\n",
    "sns.despine(trim=False, left=False)\n",
    "\n",
    "palette = sns.color_palette('coolwarm', 3)[1:]\n",
    "axes[0] = sns.boxplot(x=\"trifid_score\", y=\"Length\", data=pd.concat([data1_g27, data1_pnc]), orient='w', width=.7, fliersize=1, color=\"#a4c2f4\", ax=axes[0], hue=\"Gene set\", palette=palette)\n",
    "axes[1] = sns.boxplot(x=\"trifid_score\", y=\"Corsair\", data=pd.concat([data2_g27, data2_pnc]), orient='w', width=.7, fliersize=1, color=\"#a4c2f4\", ax=axes[1], hue=\"Gene set\", palette=palette)\n",
    "axes[2] = sns.boxplot(x=\"trifid_score\", y=\"Corsair_alt\", data=pd.concat([data3_g27, data3_pnc]), orient='w', width=.7, fliersize=1, color=\"#a4c2f4\", ax=axes[2], hue=\"Gene set\", palette=palette)\n",
    "\n",
    "for ax in axes:\n",
    "    ax.set_xlabel(\"\")\n",
    "    ax.xaxis.grid(False)\n",
    "    ax.yaxis.grid(False)\n",
    "    \n",
    "axes[0].set_ylabel('Length', labelpad=26, fontsize=20)\n",
    "axes[0].margins(0)\n",
    "axes[0].get_legend().remove()\n",
    "axes[1].set_ylabel('CORSAIR', labelpad=40, fontsize=20)\n",
    "axes[1].get_legend().remove()\n",
    "axes[2].set_ylabel('Alt-CORSAIR', labelpad=30, fontsize=20)\n",
    "axes[2].set_xlabel(\"TRIFID score\", fontsize=20)\n",
    "axes[2].get_legend().remove()\n",
    "\n",
    "handles, labels = ax.get_legend_handles_labels()\n",
    "fig.legend(handles, labels, loc='left', prop={'size': 18}, frameon=True, bbox_to_anchor=(0,0,0.97,1.09))\n",
    "\n",
    "plt.tick_params(labelsize=18)\n",
    "plt.xlim([0,1])\n",
    "plt.tight_layout()\n",
    "# plt.savefig('../reports/figures/figS2.png', dpi=350, bbox_inches='tight')\n",
    "# plt.savefig('../reports/figures/figS2.pdf', dpi=350, bbox_inches='tight')"
   ]
  },
  {
   "cell_type": "markdown",
   "metadata": {},
   "source": [
    "## 4.3 - Figure S3: Distribution of TRIFID scores for GENCODE v27 isoforms <a class=\"anchor\" id=\"figures3\"></a>"
   ]
  },
  {
   "cell_type": "code",
   "execution_count": 13,
   "metadata": {},
   "outputs": [
    {
     "data": {
      "text/html": [
       "<iframe src=../reports/figures/figS3.pdf width=700 height=300></iframe>"
      ],
      "text/latex": [
       "\\includegraphics[width=1.0\\textwidth]{../reports/figures/figS3.pdf}"
      ],
      "text/plain": [
       "<__main__.PDF at 0x7f4de1f5e310>"
      ]
     },
     "execution_count": 13,
     "metadata": {},
     "output_type": "execute_result"
    }
   ],
   "source": [
    "PDF('../reports/figures/figS3.pdf',size=(700,300))"
   ]
  },
  {
   "cell_type": "code",
   "execution_count": null,
   "metadata": {},
   "outputs": [],
   "source": [
    "xcol='trifid_score'\n",
    "palette='set2'\n",
    "opacity=0.8\n",
    "chart = alt.Chart(df_g27_predictions[['trifid_score']]).mark_bar().encode(\n",
    "    x=alt.X(xcol,\n",
    "            bin=alt.Bin(extent=[0, 1],\n",
    "                        step=0.025),\n",
    "            axis=alt.Axis(title='TRIFID Score', \n",
    "                         titleFont='Arial',\n",
    "                         titleFontWeight='normal',\n",
    "                         titleFontSize=22,\n",
    "                         labelFont='Arial', \n",
    "                         labelFontSize=16)),\n",
    "    y=alt.Y('count()', axis=alt.Axis(title='', titleFont='Arial', titleFontWeight='normal', titleFontSize=18,\n",
    "                                    labelFont='Arial', labelFontSize=16)),\n",
    "    opacity=alt.value(opacity),\n",
    ")\n",
    "config_altair(chart, height=200, width=600)"
   ]
  },
  {
   "cell_type": "markdown",
   "metadata": {},
   "source": [
    "## 4.4 - Figure S4: Distribution of TRIFID scores for principal and alternative isoforms <a class=\"anchor\" id=\"figures4\"></a>"
   ]
  },
  {
   "cell_type": "code",
   "execution_count": 14,
   "metadata": {},
   "outputs": [
    {
     "data": {
      "text/html": [
       "<iframe src=../reports/figures/figS4.pdf width=700 height=600></iframe>"
      ],
      "text/latex": [
       "\\includegraphics[width=1.0\\textwidth]{../reports/figures/figS4.pdf}"
      ],
      "text/plain": [
       "<__main__.PDF at 0x7f4de1f5e7d0>"
      ]
     },
     "execution_count": 14,
     "metadata": {},
     "output_type": "execute_result"
    }
   ],
   "source": [
    "PDF('../reports/figures/figS4.pdf',size=(700,600))"
   ]
  },
  {
   "cell_type": "code",
   "execution_count": null,
   "metadata": {},
   "outputs": [],
   "source": [
    "plot_appris_histogram(cat_appris_order(df_g27_predictions))"
   ]
  },
  {
   "cell_type": "markdown",
   "metadata": {},
   "source": [
    "## 4.5 - Figure S5: Distribution of TRIFID scores for GENCODE v27 transcript types <a class=\"anchor\" id=\"figures5\"></a>"
   ]
  },
  {
   "cell_type": "code",
   "execution_count": 15,
   "metadata": {},
   "outputs": [
    {
     "data": {
      "text/html": [
       "<iframe src=../reports/figures/figS5.pdf width=700 height=500></iframe>"
      ],
      "text/latex": [
       "\\includegraphics[width=1.0\\textwidth]{../reports/figures/figS5.pdf}"
      ],
      "text/plain": [
       "<__main__.PDF at 0x7f4de1f5ecd0>"
      ]
     },
     "execution_count": 15,
     "metadata": {},
     "output_type": "execute_result"
    }
   ],
   "source": [
    "PDF('../reports/figures/figS5.pdf',size=(700,500))"
   ]
  },
  {
   "cell_type": "code",
   "execution_count": null,
   "metadata": {},
   "outputs": [],
   "source": [
    "plot_transcript_types_histogram(cat_transcript_type(df_g27_predictions))"
   ]
  },
  {
   "cell_type": "markdown",
   "metadata": {},
   "source": [
    "## 4.6 - Figure S6: A scatter plot of Raw TRIFID score against Normalised TRIFID score <a class=\"anchor\" id=\"figures6\"></a>"
   ]
  },
  {
   "cell_type": "code",
   "execution_count": 16,
   "metadata": {},
   "outputs": [
    {
     "data": {
      "text/html": [
       "<iframe src=../reports/figures/figS6.pdf width=700 height=500></iframe>"
      ],
      "text/latex": [
       "\\includegraphics[width=1.0\\textwidth]{../reports/figures/figS6.pdf}"
      ],
      "text/plain": [
       "<__main__.PDF at 0x7f4de1f63250>"
      ]
     },
     "execution_count": 16,
     "metadata": {},
     "output_type": "execute_result"
    }
   ],
   "source": [
    "PDF('../reports/figures/figS6.pdf',size=(700,500))"
   ]
  },
  {
   "cell_type": "code",
   "execution_count": null,
   "metadata": {},
   "outputs": [],
   "source": [
    "r_pearson, p_pearson = stats.pearsonr(df_g27_predictions['trifid_score'], df_g27_predictions['norm_trifid_score'])\n",
    "r_spearman, p_spearman = stats.spearmanr(df_g27_predictions['trifid_score'], df_g27_predictions['norm_trifid_score'])\n",
    "legend_label = f'Pearson $\\\\rho$ = {r_pearson.round(3)}; Spearman $\\\\rho$ = {r_spearman.round(3)}'\n",
    "print(legend_label)\n",
    "\n",
    "scp = sns.jointplot(data=df_g27_predictions, \n",
    "              x=\"trifid_score\", y=\"norm_trifid_score\", \n",
    "              kind=\"reg\", color='#ED553B', \n",
    "              xlim=(0,1), ylim=(0,1), \n",
    "              height=8, ratio=6,\n",
    "              joint_kws = {'scatter_kws':dict(alpha=0.25, s=10)}\n",
    "                   )\n",
    "# scp.ax_joint.annotate(legend_label, xy=(0.3, 0.05), xycoords='axes fraction', fontsize=16)\n",
    "\n",
    "plt.xlabel('TRIFID score', fontsize=20)\n",
    "plt.xticks(fontsize=18)\n",
    "\n",
    "plt.ylabel('Normalized TRIFID score', fontsize=20)\n",
    "plt.yticks(fontsize=18)\n",
    "plt.tight_layout()\n",
    "# plt.savefig('../reports/figures/figS6.pdf', dpi=350, bbox_inches='tight')\n",
    "# plt.savefig('../reports/figures/figS6.png', dpi=350, bbox_inches='tight')"
   ]
  },
  {
   "cell_type": "markdown",
   "metadata": {},
   "source": [
    "## 4.7 - Figure S7: SHAP local predictions for ERCC6 isoforms <a class=\"anchor\" id=\"figures7\"></a>"
   ]
  },
  {
   "cell_type": "code",
   "execution_count": 17,
   "metadata": {},
   "outputs": [
    {
     "data": {
      "text/html": [
       "<iframe src=../reports/figures/figS7.pdf width=800 height=400></iframe>"
      ],
      "text/latex": [
       "\\includegraphics[width=1.0\\textwidth]{../reports/figures/figS7.pdf}"
      ],
      "text/plain": [
       "<__main__.PDF at 0x7f4de1f63850>"
      ]
     },
     "execution_count": 17,
     "metadata": {},
     "output_type": "execute_result"
    }
   ],
   "source": [
    "PDF('../reports/figures/figS7.pdf',size=(800,400))"
   ]
  },
  {
   "cell_type": "code",
   "execution_count": null,
   "metadata": {},
   "outputs": [],
   "source": [
    "df_local_shap = pd.merge(df_g27_predictions[['transcript_id', 'trifid_score']], df_g27, how='left', on='transcript_id').round(2)"
   ]
  },
  {
   "cell_type": "code",
   "execution_count": null,
   "metadata": {},
   "outputs": [],
   "source": [
    "ercc6_transcripts = df_local_shap[df_local_shap.gene_name == 'ERCC6']['transcript_id'].values\n",
    "ercc6_transcripts = ['ENST00000355832', 'ENST00000447839']"
   ]
  },
  {
   "cell_type": "code",
   "execution_count": null,
   "metadata": {},
   "outputs": [],
   "source": [
    "for n, tid in enumerate(ercc6_transcripts):\n",
    "    explain_prediction(df_local_shap, model, features, tid)\n",
    "    # plt.savefig(f'../reports/figures/figS7.{n+1}.png', bbox_inches='tight', dpi=350)"
   ]
  },
  {
   "cell_type": "markdown",
   "metadata": {},
   "source": [
    "## 4.8 - Figure S8: SHAP local predictions for FGFR1 isoforms <a class=\"anchor\" id=\"figures8\"></a>"
   ]
  },
  {
   "cell_type": "code",
   "execution_count": 18,
   "metadata": {},
   "outputs": [
    {
     "data": {
      "text/html": [
       "<iframe src=../reports/figures/figS8.pdf width=700 height=600></iframe>"
      ],
      "text/latex": [
       "\\includegraphics[width=1.0\\textwidth]{../reports/figures/figS8.pdf}"
      ],
      "text/plain": [
       "<__main__.PDF at 0x7f4de1f63d10>"
      ]
     },
     "execution_count": 18,
     "metadata": {},
     "output_type": "execute_result"
    }
   ],
   "source": [
    "PDF('../reports/figures/figS8.pdf',size=(700,600))"
   ]
  },
  {
   "cell_type": "code",
   "execution_count": null,
   "metadata": {},
   "outputs": [],
   "source": [
    "fgfr1_transcripts = df_local_shap[df_local_shap.gene_name == 'FGFR1']['transcript_id'].values\n",
    "fgfr1_transcripts = ['ENST00000447712', 'ENST00000397103', 'ENST00000619564', 'ENST00000356207']"
   ]
  },
  {
   "cell_type": "code",
   "execution_count": null,
   "metadata": {},
   "outputs": [],
   "source": [
    "for n, tid in enumerate(fgfr1_transcripts):\n",
    "    explain_prediction(df_local_shap, model, features, tid)\n",
    "    # plt.savefig(f'../reports/figures/figS8.{n+1}.png', bbox_inches='tight', dpi=350)"
   ]
  },
  {
   "cell_type": "code",
   "execution_count": null,
   "metadata": {},
   "outputs": [],
   "source": [
    "explain_prediction(df_local_shap, model, features, 'ENST00000356207')\n",
    "# plt.savefig(f'../img/local_shap_fgfr1.png', bbox_inches='tight', dpi=350)"
   ]
  },
  {
   "cell_type": "markdown",
   "metadata": {},
   "source": [
    "## 4.9 - Figure S9: Further examples of discrepancies between TRIFID and PULSE scores <a class=\"anchor\" id=\"figures9\"></a>"
   ]
  },
  {
   "cell_type": "code",
   "execution_count": 19,
   "metadata": {},
   "outputs": [
    {
     "data": {
      "text/html": [
       "<iframe src=../reports/figures/figS9.pdf width=800 height=500></iframe>"
      ],
      "text/latex": [
       "\\includegraphics[width=1.0\\textwidth]{../reports/figures/figS9.pdf}"
      ],
      "text/plain": [
       "<__main__.PDF at 0x7f4de1f69250>"
      ]
     },
     "execution_count": 19,
     "metadata": {},
     "output_type": "execute_result"
    }
   ],
   "source": [
    "PDF('../reports/figures/figS9.pdf',size=(800,500))"
   ]
  },
  {
   "cell_type": "markdown",
   "metadata": {},
   "source": [
    "## 4.10 - Figure S10: Human - generic comparison <a class=\"anchor\" id=\"figures10\"></a>"
   ]
  },
  {
   "cell_type": "code",
   "execution_count": 20,
   "metadata": {},
   "outputs": [
    {
     "data": {
      "text/html": [
       "<iframe src=../reports/figures/figS10.pdf width=800 height=400></iframe>"
      ],
      "text/latex": [
       "\\includegraphics[width=1.0\\textwidth]{../reports/figures/figS10.pdf}"
      ],
      "text/plain": [
       "<__main__.PDF at 0x7f4de1f69790>"
      ]
     },
     "execution_count": 20,
     "metadata": {},
     "output_type": "execute_result"
    }
   ],
   "source": [
    "PDF('../reports/figures/figS10.pdf',size=(800,400))"
   ]
  },
  {
   "cell_type": "code",
   "execution_count": null,
   "metadata": {},
   "outputs": [],
   "source": [
    "generic_features = df_features[df_features['support'] == 'cross-species'].loc[df_features['category'] != 'Identifier'].feature.values\n",
    "\n",
    "fig, (ax1, ax2) = plt.subplots(1, 2, figsize=(11, 4))\n",
    "fig.subplots_adjust(hspace = 2)\n",
    "plot_prcurve(\n",
    "    model=model.model,\n",
    "    X=pd.concat([model.train_features, model.test_features]).reset_index(drop=True).values, \n",
    "    y=pd.concat([model.train_target, model.test_target]).reset_index(drop=True).values, \n",
    "    n_splits=5,\n",
    "    seed=120,\n",
    "    title='',\n",
    "    ax=ax1)\n",
    "\n",
    "plot_prcurve(\n",
    "    model=model.model,\n",
    "    X=pd.concat([model.train_features[generic_features], model.test_features[generic_features]]).reset_index(drop=True).values, \n",
    "    y=pd.concat([model.train_target, model.test_target]).reset_index(drop=True).values, \n",
    "    n_splits=5,\n",
    "    seed=120,\n",
    "    title='',\n",
    "    ax=ax2)\n",
    "\n",
    "# plt.savefig('../reports/figures/figS10.png', dpi=350, bbox_inches='tight')\n",
    "# plt.savefig('../reports/figures/figS10.pdf', dpi=350, bbox_inches='tight')"
   ]
  },
  {
   "cell_type": "code",
   "execution_count": null,
   "metadata": {},
   "outputs": [],
   "source": [
    "fig, ax1 = plt.subplots(1, 1, figsize=(4, 4))\n",
    "plot_prcurve(\n",
    "    model=model.model,\n",
    "    X=pd.concat([model.train_features, model.test_features]).reset_index(drop=True).values, \n",
    "    y=pd.concat([model.train_target, model.test_target]).reset_index(drop=True).values, \n",
    "    n_splits=5,\n",
    "    seed=120,\n",
    "    title='',\n",
    "    ax=ax1)\n",
    "# fig.savefig('../reports/figures/figS10A.png', bbox_inches='tight' ,dpi=360)"
   ]
  },
  {
   "cell_type": "code",
   "execution_count": null,
   "metadata": {},
   "outputs": [],
   "source": [
    "fig, ax1 = plt.subplots(1, 1, figsize=(4, 4))\n",
    "plot_prcurve(\n",
    "    model=model.model,\n",
    "    X=pd.concat([model.train_features[features_generic], model.test_features[features_generic]]).reset_index(drop=True).values, \n",
    "    y=pd.concat([model.train_target, model.test_target]).reset_index(drop=True).values, \n",
    "    n_splits=5,\n",
    "    seed=120,\n",
    "    title='',\n",
    "    ax=ax1)\n",
    "# fig.savefig('../reports/figures/figS10B.png', bbox_inches='tight' ,dpi=360)"
   ]
  },
  {
   "cell_type": "markdown",
   "metadata": {},
   "source": [
    "# 5. References <a class=\"anchor\" id=\"references\"></a>"
   ]
  },
  {
   "cell_type": "markdown",
   "metadata": {},
   "source": [
    "- pandas 1.0.4.\n",
    "- numpy 1.18.5.\n",
    "- altair 4.1.0.\n",
    "- matplotlib 3.2.1.\n",
    "- sklearn 0.23.1.\n",
    "- yellowbrick 1.1."
   ]
  },
  {
   "cell_type": "markdown",
   "metadata": {},
   "source": [
    "-----"
   ]
  },
  {
   "cell_type": "markdown",
   "metadata": {},
   "source": [
    "# 6. Project contribution <a class=\"anchor\" id=\"project-contribution\"></a>"
   ]
  },
  {
   "cell_type": "markdown",
   "metadata": {},
   "source": [
    "**Author information**:\n",
    "\n",
    "Fernando Pozo\n",
    "\n",
    "- [ORCID iD (0000-0001-7688-6045)](https://orcid.org/0000-0001-7688-6045)\n",
    "- [GitLab (@fpozoc)](https://gitlab.com/fpozoc)\n",
    "- [Twitter (@fpozoca)](https://twitter.com/fpozoca)"
   ]
  }
 ],
 "metadata": {
  "kernelspec": {
   "display_name": "Python 3",
   "language": "python",
   "name": "python3"
  },
  "language_info": {
   "codemirror_mode": {
    "name": "ipython",
    "version": 3
   },
   "file_extension": ".py",
   "mimetype": "text/x-python",
   "name": "python",
   "nbconvert_exporter": "python",
   "pygments_lexer": "ipython3",
   "version": "3.7.7"
  }
 },
 "nbformat": 4,
 "nbformat_minor": 4
}
